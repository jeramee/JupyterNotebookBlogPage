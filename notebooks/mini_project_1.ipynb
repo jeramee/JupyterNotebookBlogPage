{
 "cells": [
  {
   "cell_type": "code",
   "execution_count": null,
   "metadata": {},
   "outputs": [],
   "source": [
    "# Cell 1\n",
    "# Import necessary libraries\n",
    "import yfinance as yf\n",
    "import numpy as np\n",
    "import matplotlib.pyplot as plt\n",
    "from pathlib import Path\n"
   ]
  },
  {
   "cell_type": "code",
   "execution_count": null,
   "metadata": {},
   "outputs": [],
   "source": [
    "# Cell 2\n",
    "# Function to collect the closing price of a stock for the last 10 trading days\n",
    "def getClosing(ticker):\n",
    "    stock = yf.Ticker(ticker)\n",
    "    hist = stock.history(period=\"10d\")\n",
    "\n",
    "    closingList = []\n",
    "\n",
    "    for price in hist['Close']:\n",
    "        closingList.append(round(price, 2))\n",
    "\n",
    "    return closingList\n"
   ]
  },
  {
   "cell_type": "code",
   "execution_count": null,
   "metadata": {},
   "outputs": [],
   "source": [
    "# Cell 3\n",
    "# Function to plot and save the closing price graph for a stock\n",
    "def printGraph(stock):\n",
    "    stockClosing = np.array(getClosing(stock))\n",
    "    days = list(range(1, len(stockClosing) + 1))\n",
    "\n",
    "    plt.plot(days, stockClosing)\n",
    "    prices = getClosing(stock)\n",
    "    prices.sort()\n",
    "    low_price = prices[0]\n",
    "    high_price = prices[-1]\n",
    "\n",
    "    plt.axis([1, 10, low_price, high_price])\n",
    "    plt.xlabel(\"Days\")\n",
    "    plt.ylabel(\"Closing Price\")\n",
    "    plt.title(\"Closing Price for \" + stock)\n",
    "\n",
    "    savefile = \"charts/\" + stock + \".png\"\n",
    "    plt.savefig(savefile)\n",
    "    plt.show()\n"
   ]
  },
  {
   "cell_type": "code",
   "execution_count": null,
   "metadata": {},
   "outputs": [],
   "source": [
    "# Cell 4\n",
    "# Function to get 5 stocks from the user\n",
    "def getStocks():\n",
    "    stocks = []\n",
    "\n",
    "    print(\"Please enter 5 stocks to graph:\")\n",
    "    for i in range(1, 6):\n",
    "        while True:\n",
    "            print(\"Enter stock ticker value \" + str(i))\n",
    "            ticker = input(\"> \")\n",
    "            try:\n",
    "                stock = yf.Ticker(ticker)\n",
    "                stock.info\n",
    "                stocks.append(ticker)\n",
    "                break\n",
    "            except:\n",
    "                print(\"That is not a valid stock. Please enter another.\")\n",
    "\n",
    "    return stocks\n"
   ]
  },
  {
   "cell_type": "code",
   "execution_count": null,
   "metadata": {},
   "outputs": [],
   "source": [
    "# Cell 5\n",
    "# Start of the program\n",
    "try:\n",
    "    Path(\"charts\").mkdir()\n",
    "except FileExistsError:\n",
    "    pass\n",
    "\n",
    "# Cell 6\n",
    "# Loop to get 5 stocks from the user and plot graphs\n",
    "for stock in getStocks():\n",
    "    getClosing(stock)\n",
    "    printGraph(stock)\n"
   ]
  }
 ],
 "metadata": {
  "language_info": {
   "name": "python"
  },
  "orig_nbformat": 4
 },
 "nbformat": 4,
 "nbformat_minor": 2
}
